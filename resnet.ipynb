{
 "cells": [
  {
   "cell_type": "code",
   "execution_count": 1,
   "id": "41c0d5f2",
   "metadata": {},
   "outputs": [],
   "source": [
    "import torch\n",
    "import numpy as np\n",
    "from tqdm import tqdm\n",
    "import torch.nn as nn\n",
    "import torch.optim as optim\n",
    "from utils.ReadData import read_dataset\n",
    "from utils.ResNet import ResNet18"
   ]
  },
  {
   "cell_type": "code",
   "execution_count": 2,
   "id": "23f5df22",
   "metadata": {},
   "outputs": [],
   "source": [
    "# set device\n",
    "device = 'cuda' if torch.cuda.is_available() else 'cpu'"
   ]
  },
  {
   "cell_type": "code",
   "execution_count": 3,
   "id": "75499ffa",
   "metadata": {},
   "outputs": [
    {
     "name": "stdout",
     "output_type": "stream",
     "text": [
      "Files already downloaded and verified\n",
      "Files already downloaded and verified\n",
      "Files already downloaded and verified\n"
     ]
    }
   ],
   "source": [
    "# 读数据\n",
    "batch_size = 128\n",
    "train_loader,valid_loader,test_loader = read_dataset(batch_size=batch_size,pic_path='dataset')"
   ]
  },
  {
   "cell_type": "code",
   "execution_count": 4,
   "id": "bb8c4b00",
   "metadata": {},
   "outputs": [],
   "source": [
    "# 加载模型(使用预处理模型，修改最后一层，固定之前的权重)\n",
    "n_class = 10\n",
    "model = ResNet18()\n",
    "\"\"\"\n",
    "ResNet18网络的7x7降采样卷积和池化操作容易丢失一部分信息,\n",
    "所以在实验中我们将7x7的降采样层和最大池化层去掉,替换为一个3x3的降采样卷积,\n",
    "同时减小该卷积层的步长和填充大小\n",
    "\"\"\"\n",
    "model.conv1 = nn.Conv2d(in_channels=3, out_channels=64, kernel_size=3, stride=1, padding=1, bias=False)\n",
    "model.fc = torch.nn.Linear(512, n_class) # 将最后的全连接层改掉\n",
    "model = model.to(device)"
   ]
  },
  {
   "cell_type": "code",
   "execution_count": 5,
   "id": "646c9bba",
   "metadata": {},
   "outputs": [],
   "source": [
    "# 使用交叉熵损失函数\n",
    "criterion = nn.CrossEntropyLoss().to(device)"
   ]
  },
  {
   "cell_type": "code",
   "execution_count": null,
   "id": "6b0e3b5b",
   "metadata": {},
   "outputs": [
    {
     "name": "stderr",
     "output_type": "stream",
     "text": [
      "\r",
      "  0%|                                                   | 0/250 [00:00<?, ?it/s]"
     ]
    }
   ],
   "source": [
    "# 开始训练\n",
    "n_epochs = 250\n",
    "valid_loss_min = np.Inf # track change in validation loss\n",
    "accuracy = []\n",
    "lr = 0.1\n",
    "counter = 0\n",
    "for epoch in tqdm(range(1, n_epochs+1)):\n",
    "\n",
    "    # keep track of training and validation loss\n",
    "    train_loss = 0.0\n",
    "    valid_loss = 0.0\n",
    "    total_sample = 0\n",
    "    right_sample = 0\n",
    "    \n",
    "    # 动态调整学习率\n",
    "    if counter/10 ==1:\n",
    "        counter = 0\n",
    "        lr = lr*0.5\n",
    "    optimizer = optim.SGD(model.parameters(), lr=lr, momentum=0.9, weight_decay=5e-4)\n",
    "    ###################\n",
    "    # 训练集的模型 #\n",
    "    ###################\n",
    "    model.train() #作用是启用batch normalization和drop out\n",
    "    for data, target in train_loader:\n",
    "        data = data.to(device)\n",
    "        target = target.to(device)\n",
    "        # clear the gradients of all optimized variables（清除梯度）\n",
    "        optimizer.zero_grad()\n",
    "        # forward pass: compute predicted outputs by passing inputs to the model\n",
    "        # (正向传递：通过向模型传递输入来计算预测输出)\n",
    "        output = model(data).to(device)  #（等价于output = model.forward(data).to(device) ）\n",
    "        # calculate the batch loss（计算损失值）\n",
    "        loss = criterion(output, target)\n",
    "        # backward pass: compute gradient of the loss with respect to model parameters\n",
    "        # （反向传递：计算损失相对于模型参数的梯度）\n",
    "        loss.backward()\n",
    "        # perform a single optimization step (parameter update)\n",
    "        # 执行单个优化步骤（参数更新）\n",
    "        optimizer.step()\n",
    "        # update training loss（更新损失）\n",
    "        train_loss += loss.item()*data.size(0)\n",
    "        \n",
    "    ######################    \n",
    "    # 验证集的模型#\n",
    "    ######################\n",
    "\n",
    "    model.eval()  # 验证模型\n",
    "    for data, target in valid_loader:\n",
    "        data = data.to(device)\n",
    "        target = target.to(device)\n",
    "        # forward pass: compute predicted outputs by passing inputs to the model\n",
    "        output = model(data).to(device)\n",
    "        # calculate the batch loss\n",
    "        loss = criterion(output, target)\n",
    "        # update average validation loss \n",
    "        valid_loss += loss.item()*data.size(0)\n",
    "        # convert output probabilities to predicted class(将输出概率转换为预测类)\n",
    "        _, pred = torch.max(output, 1)    \n",
    "        # compare predictions to true label(将预测与真实标签进行比较)\n",
    "        correct_tensor = pred.eq(target.data.view_as(pred))\n",
    "        # correct = np.squeeze(correct_tensor.to(device).numpy())\n",
    "        total_sample += batch_size\n",
    "        for i in correct_tensor:\n",
    "            if i:\n",
    "                right_sample += 1\n",
    "    print(\"Accuracy:\",100*right_sample/total_sample,\"%\")\n",
    "    accuracy.append(right_sample/total_sample)\n",
    " \n",
    "    # 计算平均损失\n",
    "    train_loss = train_loss/len(train_loader.sampler)\n",
    "    valid_loss = valid_loss/len(valid_loader.sampler)\n",
    "        \n",
    "    # 显示训练集与验证集的损失函数 \n",
    "    print('Epoch: {} \\tTraining Loss: {:.6f} \\tValidation Loss: {:.6f}'.format(\n",
    "        epoch, train_loss, valid_loss))\n",
    "    \n",
    "    # 如果验证集损失函数减少，就保存模型。\n",
    "    if valid_loss <= valid_loss_min:\n",
    "        print('Validation loss decreased ({:.6f} --> {:.6f}).  Saving model ...'.format(valid_loss_min,valid_loss))\n",
    "        torch.save(model.state_dict(), 'checkpoint/resnet18_cifar10.pt')\n",
    "        valid_loss_min = valid_loss\n",
    "        counter = 0\n",
    "    else:\n",
    "        counter += 1"
   ]
  }
 ],
 "metadata": {
  "kernelspec": {
   "display_name": "Python 3 (ipykernel)",
   "language": "python",
   "name": "python3"
  },
  "language_info": {
   "codemirror_mode": {
    "name": "ipython",
    "version": 3
   },
   "file_extension": ".py",
   "mimetype": "text/x-python",
   "name": "python",
   "nbconvert_exporter": "python",
   "pygments_lexer": "ipython3",
   "version": "3.8.0"
  }
 },
 "nbformat": 4,
 "nbformat_minor": 5
}
